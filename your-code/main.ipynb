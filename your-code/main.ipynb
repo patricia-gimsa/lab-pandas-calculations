{
 "cells": [
  {
   "cell_type": "markdown",
   "metadata": {},
   "source": [
    "# Challenge 3\n",
    "\n",
    "In this challenge we will work on the `Orders` data set. In your work you will apply the thinking process and workflow we showed you in Challenge 2.\n",
    "\n",
    "You are serving as a Business Intelligence Analyst at the headquarter of an international fashion goods chain store. Your boss today asked you to do two things for her:\n",
    "\n",
    "**First, identify two groups of customers from the data set.** The first group is **VIP Customers** whose **aggregated expenses** at your global chain stores are **above the 95th percentile** (aka. 0.95 quantile). The second group is **Preferred Customers** whose **aggregated expenses** are **between the 75th and 95th percentile**.\n",
    "\n",
    "**Second, identify which country has the most of your VIP customers, and which country has the most of your VIP+Preferred Customers combined.**"
   ]
  },
  {
   "cell_type": "markdown",
   "metadata": {},
   "source": [
    "## Q1: How to identify VIP & Preferred Customers?\n",
    "\n",
    "We start by importing all the required libraries:"
   ]
  },
  {
   "cell_type": "code",
   "execution_count": 1,
   "metadata": {},
   "outputs": [],
   "source": [
    "# import required libraries\n",
    "import numpy as np\n",
    "import pandas as pd"
   ]
  },
  {
   "cell_type": "markdown",
   "metadata": {},
   "source": [
    "Next, extract and import `Orders` dataset into a dataframe variable called `orders`. Print the head of `orders` to overview the data:"
   ]
  },
  {
   "cell_type": "code",
   "execution_count": 2,
   "metadata": {},
   "outputs": [
    {
     "name": "stdout",
     "output_type": "stream",
     "text": [
      "   Unnamed: 0  InvoiceNo StockCode  year  month  day  hour  \\\n",
      "0           0     536365    85123A  2010     12    3     8   \n",
      "1           1     536365     71053  2010     12    3     8   \n",
      "2           2     536365    84406B  2010     12    3     8   \n",
      "3           3     536365    84029G  2010     12    3     8   \n",
      "4           4     536365    84029E  2010     12    3     8   \n",
      "\n",
      "                           Description  Quantity          InvoiceDate  \\\n",
      "0   white hanging heart t-light holder         6  2010-12-01 08:26:00   \n",
      "1                  white metal lantern         6  2010-12-01 08:26:00   \n",
      "2       cream cupid hearts coat hanger         8  2010-12-01 08:26:00   \n",
      "3  knitted union flag hot water bottle         6  2010-12-01 08:26:00   \n",
      "4       red woolly hottie white heart.         6  2010-12-01 08:26:00   \n",
      "\n",
      "   UnitPrice  CustomerID         Country  amount_spent  \n",
      "0       2.55       17850  United Kingdom         15.30  \n",
      "1       3.39       17850  United Kingdom         20.34  \n",
      "2       2.75       17850  United Kingdom         22.00  \n",
      "3       3.39       17850  United Kingdom         20.34  \n",
      "4       3.39       17850  United Kingdom         20.34  \n"
     ]
    }
   ],
   "source": [
    "orders = pd.read_csv('Orders.csv')  # Load the dataset into a DataFrame called 'orders'\n",
    "\n",
    "print(orders.head()) # Display the first 5 rows to understand the structure of the data\n"
   ]
  },
  {
   "cell_type": "markdown",
   "metadata": {},
   "source": [
    "---\n",
    "\n",
    "\"Identify VIP and Preferred Customers\" is the non-technical goal of your boss. You need to translate that goal into technical languages that data analysts use:\n",
    "\n",
    "## How to label customers whose aggregated `amount_spent` is in a given quantile range?\n"
   ]
  },
  {
   "cell_type": "markdown",
   "metadata": {},
   "source": [
    "We break down the main problem into several sub problems:\n",
    "\n",
    "#### Sub Problem 1: How to aggregate the  `amount_spent` for unique customers?\n",
    "\n",
    "#### Sub Problem 2: How to select customers whose aggregated `amount_spent` is in a given quantile range?\n",
    "\n",
    "#### Sub Problem 3: How to label selected customers as \"VIP\" or \"Preferred\"?\n",
    "\n",
    "*Note: If you want to break down the main problem in a different way, please feel free to revise the sub problems above.*\n",
    "\n",
    "Now in the workspace below, tackle each of the sub problems using the iterative problem solving workflow. Insert cells as necessary to write your codes and explain your steps."
   ]
  },
  {
   "cell_type": "code",
   "execution_count": 17,
   "metadata": {},
   "outputs": [
    {
     "name": "stdout",
     "output_type": "stream",
     "text": [
      "   CustomerID         Country  TotalSpent\n",
      "0       12346  United Kingdom    77183.60\n",
      "1       12347         Iceland     4310.00\n",
      "2       12348         Finland     1797.24\n",
      "3       12349           Italy     1757.55\n",
      "4       12350          Norway      334.40\n"
     ]
    }
   ],
   "source": [
    "# Sub Problem 1:\n",
    "customer_totals = orders.groupby(['CustomerID', 'Country'])['amount_spent'].sum().reset_index() # Group by CustomerID and Country, and sum the 'amount_spent' for each customer, then reset_index() transforms it into a clean DataFrame with proper columns.\n",
    "\n",
    "customer_totals.columns = ['CustomerID', 'Country', 'TotalSpent'] # Rename the new column for clarity\n",
    "\n",
    "print(customer_totals.head()) # Display the first few rows\n"
   ]
  },
  {
   "cell_type": "code",
   "execution_count": 18,
   "metadata": {},
   "outputs": [],
   "source": [
    "# Sub Problem 2:\n",
    "# Calculate the 75th and 95th percentiles of total customer spending:\n",
    "q75 = customer_totals['TotalSpent'].quantile(0.75)\n",
    "q95 = customer_totals['TotalSpent'].quantile(0.95)\n",
    "\n",
    "# Select VIP customers: spent more than 95th percentile:\n",
    "vip_customers = customer_totals[customer_totals['TotalSpent'] > q95].copy()\n",
    "\n",
    "# Select Preferred customers: spent between 75th and 95th percentile\n",
    "preferred_customers = customer_totals[\n",
    "    (customer_totals['TotalSpent'] > q75) &\n",
    "    (customer_totals['TotalSpent'] <= q95)\n",
    "].copy()\n"
   ]
  },
  {
   "cell_type": "code",
   "execution_count": 19,
   "metadata": {},
   "outputs": [
    {
     "name": "stdout",
     "output_type": "stream",
     "text": [
      "   CustomerID         Country  TotalSpent CustomerType\n",
      "0       12346  United Kingdom    77183.60          VIP\n",
      "1       12357     Switzerland     6207.67          VIP\n",
      "2       12359          Cyprus     6372.58          VIP\n",
      "3       12409     Switzerland    11072.67          VIP\n",
      "4       12415       Australia   124914.53          VIP\n"
     ]
    }
   ],
   "source": [
    "#Sub Problem 3:\n",
    "# Label VIP and Preferred customers safely\n",
    "vip_customers.loc[:, 'CustomerType'] = 'VIP'\n",
    "preferred_customers.loc[:, 'CustomerType'] = 'Preferred'\n",
    "\n",
    "# Combine into a single DataFrame\n",
    "labeled_customers = pd.concat([vip_customers, preferred_customers], ignore_index=True)\n",
    "\n",
    "# Display the result\n",
    "print(labeled_customers.head())\n"
   ]
  },
  {
   "cell_type": "markdown",
   "metadata": {},
   "source": [
    "Now we'll leave it to you to solve Q2 & Q3, which you can leverage from your solution for Q1:\n",
    "\n",
    "## Q2: How to identify which country has the most VIP Customers?"
   ]
  },
  {
   "cell_type": "code",
   "execution_count": 20,
   "metadata": {},
   "outputs": [
    {
     "name": "stdout",
     "output_type": "stream",
     "text": [
      "VIP Customers per Country:\n",
      "Country\n",
      "United Kingdom     178\n",
      "Germany             11\n",
      "France               9\n",
      "Switzerland          3\n",
      "Spain                2\n",
      "EIRE                 2\n",
      "Portugal             2\n",
      "Japan                2\n",
      "Cyprus               1\n",
      "Norway               1\n",
      "Denmark              1\n",
      "Australia            1\n",
      "Finland              1\n",
      "Singapore            1\n",
      "Netherlands          1\n",
      "Channel Islands      1\n",
      "Sweden               1\n",
      "Name: count, dtype: int64\n",
      "Country with the most VIP Customers:\n",
      "United Kingdom\n"
     ]
    }
   ],
   "source": [
    "# Count the number of VIP customers per country\n",
    "vip_counts_by_country = vip_customers['Country'].value_counts()\n",
    "\n",
    "# Display the result\n",
    "print(\"VIP Customers per Country:\")\n",
    "print(vip_counts_by_country)\n",
    "\n",
    "# Get the country with the most VIP customers\n",
    "top_vip_country = vip_counts_by_country.idxmax()\n",
    "\n",
    "\n",
    "print(\"Country with the most VIP Customers:\")\n",
    "print(top_vip_country)\n"
   ]
  },
  {
   "cell_type": "markdown",
   "metadata": {},
   "source": [
    "## Q3: How to identify which country has the most VIP+Preferred Customers combined?"
   ]
  },
  {
   "cell_type": "code",
   "execution_count": 21,
   "metadata": {},
   "outputs": [
    {
     "name": "stdout",
     "output_type": "stream",
     "text": [
      "VIP + Preferred Customers per Country:\n",
      "Country\n",
      "United Kingdom     934\n",
      "Germany             39\n",
      "France              29\n",
      "Belgium             11\n",
      "Switzerland          9\n",
      "Spain                7\n",
      "Norway               7\n",
      "Portugal             7\n",
      "Italy                5\n",
      "Finland              5\n",
      "Australia            4\n",
      "Japan                4\n",
      "Channel Islands      4\n",
      "Cyprus               3\n",
      "Denmark              3\n",
      "EIRE                 3\n",
      "Israel               2\n",
      "Sweden               2\n",
      "Singapore            1\n",
      "Iceland              1\n",
      "Netherlands          1\n",
      "Austria              1\n",
      "Lebanon              1\n",
      "Poland               1\n",
      "Greece               1\n",
      "Canada               1\n",
      "Malta                1\n",
      "Name: count, dtype: int64\n",
      "Country with the most VIP + Preferred Customers:\n",
      "United Kingdom\n"
     ]
    }
   ],
   "source": [
    "# Count number of VIP + Preferred customers per country using the labeled_customers DataFrame (Sub Problem 3)\n",
    "combined_counts = labeled_customers['Country'].value_counts()\n",
    "\n",
    "# Show full distribution\n",
    "print(\"VIP + Preferred Customers per Country:\")\n",
    "print(combined_counts)\n",
    "\n",
    "# Identify the country with the highest number\n",
    "top_combined_country = combined_counts.idxmax()\n",
    "\n",
    "print(\"Country with the most VIP + Preferred Customers:\")\n",
    "print(top_combined_country)"
   ]
  }
 ],
 "metadata": {
  "kernelspec": {
   "display_name": "Python 3 (ipykernel)",
   "language": "python",
   "name": "python3"
  },
  "language_info": {
   "codemirror_mode": {
    "name": "ipython",
    "version": 3
   },
   "file_extension": ".py",
   "mimetype": "text/x-python",
   "name": "python",
   "nbconvert_exporter": "python",
   "pygments_lexer": "ipython3",
   "version": "3.13.2"
  }
 },
 "nbformat": 4,
 "nbformat_minor": 4
}
